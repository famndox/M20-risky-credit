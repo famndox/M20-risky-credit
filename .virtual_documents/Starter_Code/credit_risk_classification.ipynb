# Import the modules
import numpy as np
import pandas as pd
from pathlib import Path
from sklearn.metrics import confusion_matrix, classification_report











# Read the CSV file from the Resources folder into a Pandas DataFrame
file_path = Path("Resources/lending_data.csv")
df_lending_data = pd.read_csv(file_path)

# Review the DataFrame
df_lending_data.head()





# Separate the data into labels and features

# Separate the y variable, the labels
# YOUR CODE HERE!]

# Separate the X variable, the features
# YOUR CODE HERE!


# Review the y variable Series
# YOUR CODE HERE!


# Review the X variable DataFrame
# YOUR CODE HERE!





# Import the train_test_learn module
from sklearn.model_selection import train_test_split

# Split the data using train_test_split
# Assign a random_state of 1 to the function
# YOUR CODE HERE!











# Import the LogisticRegression module from SKLearn
from sklearn.linear_model import LogisticRegression

# Instantiate the Logistic Regression model
# Assign a random_state parameter of 1 to the model
# YOUR CODE HERE!

# Fit the model using training data
# YOUR CODE HERE!





# Make a prediction using the testing data
# YOUR CODE HERE!





# Generate a confusion matrix for the model
# YOUR CODE HERE!


# Print the classification report for the model
# YOUR CODE HERE!









